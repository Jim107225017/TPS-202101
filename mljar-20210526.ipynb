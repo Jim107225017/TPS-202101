{
 "cells": [
  {
   "cell_type": "code",
   "execution_count": 8,
   "id": "f41d3218",
   "metadata": {
    "collapsed": true
   },
   "outputs": [
    {
     "name": "stdout",
     "output_type": "stream",
     "text": [
      "Requirement already satisfied: catboost in c:\\users\\chen\\anaconda3\\envs\\ml\\lib\\site-packages (0.24.4)\n",
      "Requirement already satisfied: matplotlib in c:\\users\\chen\\anaconda3\\envs\\ml\\lib\\site-packages (from catboost) (3.3.4)\n",
      "Requirement already satisfied: plotly in c:\\users\\chen\\anaconda3\\envs\\ml\\lib\\site-packages (from catboost) (4.14.3)\n",
      "Requirement already satisfied: six in c:\\users\\chen\\anaconda3\\envs\\ml\\lib\\site-packages (from catboost) (1.16.0)\n",
      "Requirement already satisfied: numpy>=1.16.0 in c:\\users\\chen\\anaconda3\\envs\\ml\\lib\\site-packages (from catboost) (1.19.5)\n",
      "Requirement already satisfied: graphviz in c:\\users\\chen\\anaconda3\\envs\\ml\\lib\\site-packages (from catboost) (0.16)\n",
      "Requirement already satisfied: scipy in c:\\users\\chen\\anaconda3\\envs\\ml\\lib\\site-packages (from catboost) (1.5.4)\n",
      "Requirement already satisfied: pandas>=0.24.0 in c:\\users\\chen\\anaconda3\\envs\\ml\\lib\\site-packages (from catboost) (1.2.0)\n",
      "Requirement already satisfied: python-dateutil>=2.7.3 in c:\\users\\chen\\anaconda3\\envs\\ml\\lib\\site-packages (from pandas>=0.24.0->catboost) (2.8.1)\n",
      "Requirement already satisfied: pytz>=2017.3 in c:\\users\\chen\\anaconda3\\envs\\ml\\lib\\site-packages (from pandas>=0.24.0->catboost) (2021.1)\n",
      "Requirement already satisfied: pillow>=6.2.0 in c:\\users\\chen\\anaconda3\\envs\\ml\\lib\\site-packages (from matplotlib->catboost) (8.2.0)\n",
      "Requirement already satisfied: kiwisolver>=1.0.1 in c:\\users\\chen\\anaconda3\\envs\\ml\\lib\\site-packages (from matplotlib->catboost) (1.3.1)\n",
      "Requirement already satisfied: pyparsing!=2.0.4,!=2.1.2,!=2.1.6,>=2.0.3 in c:\\users\\chen\\anaconda3\\envs\\ml\\lib\\site-packages (from matplotlib->catboost) (2.4.7)\n",
      "Requirement already satisfied: cycler>=0.10 in c:\\users\\chen\\anaconda3\\envs\\ml\\lib\\site-packages (from matplotlib->catboost) (0.10.0)\n",
      "Requirement already satisfied: retrying>=1.3.3 in c:\\users\\chen\\anaconda3\\envs\\ml\\lib\\site-packages (from plotly->catboost) (1.3.3)\n",
      "Requirement already satisfied: xgboost in c:\\users\\chen\\anaconda3\\envs\\ml\\lib\\site-packages (1.2.1)\n",
      "Requirement already satisfied: scipy in c:\\users\\chen\\anaconda3\\envs\\ml\\lib\\site-packages (from xgboost) (1.5.4)\n",
      "Requirement already satisfied: numpy in c:\\users\\chen\\anaconda3\\envs\\ml\\lib\\site-packages (from xgboost) (1.19.5)\n",
      "Requirement already satisfied: lightgbm in c:\\users\\chen\\anaconda3\\envs\\ml\\lib\\site-packages (2.3.1)\n",
      "Requirement already satisfied: scipy in c:\\users\\chen\\anaconda3\\envs\\ml\\lib\\site-packages (from lightgbm) (1.5.4)\n",
      "Requirement already satisfied: scikit-learn in c:\\users\\chen\\anaconda3\\envs\\ml\\lib\\site-packages (from lightgbm) (0.24.2)\n",
      "Requirement already satisfied: numpy in c:\\users\\chen\\anaconda3\\envs\\ml\\lib\\site-packages (from lightgbm) (1.19.5)\n",
      "Requirement already satisfied: threadpoolctl>=2.0.0 in c:\\users\\chen\\anaconda3\\envs\\ml\\lib\\site-packages (from scikit-learn->lightgbm) (2.1.0)\n",
      "Requirement already satisfied: joblib>=0.11 in c:\\users\\chen\\anaconda3\\envs\\ml\\lib\\site-packages (from scikit-learn->lightgbm) (1.0.1)\n",
      "Requirement already satisfied: mljar-supervised in c:\\users\\chen\\anaconda3\\envs\\ml\\lib\\site-packages (0.10.4)\n",
      "Collecting lightgbm==3.0.0\n",
      "  Using cached lightgbm-3.0.0-py2.py3-none-win_amd64.whl (737 kB)\n",
      "Requirement already satisfied: pyarrow>=2.0.0 in c:\\users\\chen\\anaconda3\\envs\\ml\\lib\\site-packages (from mljar-supervised) (4.0.0)\n",
      "Requirement already satisfied: category-encoders==2.2.2 in c:\\users\\chen\\anaconda3\\envs\\ml\\lib\\site-packages (from mljar-supervised) (2.2.2)\n",
      "Collecting xgboost==1.3.3\n",
      "  Using cached xgboost-1.3.3-py3-none-win_amd64.whl (95.2 MB)\n",
      "Collecting scipy==1.6.1\n",
      "  Using cached scipy-1.6.1-cp37-cp37m-win_amd64.whl (32.6 MB)\n",
      "Requirement already satisfied: dtreeviz==1.3 in c:\\users\\chen\\anaconda3\\envs\\ml\\lib\\site-packages (from mljar-supervised) (1.3)\n",
      "Collecting tabulate==0.8.7\n",
      "  Using cached tabulate-0.8.7-py3-none-any.whl (24 kB)\n",
      "Requirement already satisfied: wordcloud==1.8.1 in c:\\users\\chen\\anaconda3\\envs\\ml\\lib\\site-packages (from mljar-supervised) (1.8.1)\n",
      "Requirement already satisfied: matplotlib>=3.2.2 in c:\\users\\chen\\anaconda3\\envs\\ml\\lib\\site-packages (from mljar-supervised) (3.3.4)\n",
      "Requirement already satisfied: scikit-learn==0.24.2 in c:\\users\\chen\\anaconda3\\envs\\ml\\lib\\site-packages (from mljar-supervised) (0.24.2)\n",
      "Requirement already satisfied: pandas==1.2.0 in c:\\users\\chen\\anaconda3\\envs\\ml\\lib\\site-packages (from mljar-supervised) (1.2.0)\n",
      "Requirement already satisfied: optuna==2.7.0 in c:\\users\\chen\\anaconda3\\envs\\ml\\lib\\site-packages (from mljar-supervised) (2.7.0)\n",
      "Requirement already satisfied: scikit-plot==0.3.7 in c:\\users\\chen\\anaconda3\\envs\\ml\\lib\\site-packages (from mljar-supervised) (0.3.7)\n",
      "Requirement already satisfied: seaborn==0.11.1 in c:\\users\\chen\\anaconda3\\envs\\ml\\lib\\site-packages (from mljar-supervised) (0.11.1)\n",
      "Collecting cloudpickle==1.3.0\n",
      "  Using cached cloudpickle-1.3.0-py2.py3-none-any.whl (26 kB)\n",
      "Collecting numpy>=1.20.0\n",
      "  Using cached numpy-1.20.3-cp37-cp37m-win_amd64.whl (13.6 MB)\n",
      "Requirement already satisfied: catboost==0.24.4 in c:\\users\\chen\\anaconda3\\envs\\ml\\lib\\site-packages (from mljar-supervised) (0.24.4)\n",
      "Requirement already satisfied: shap==0.36.0 in c:\\users\\chen\\anaconda3\\envs\\ml\\lib\\site-packages (from mljar-supervised) (0.36.0)\n",
      "Requirement already satisfied: markdown in c:\\users\\chen\\anaconda3\\envs\\ml\\lib\\site-packages (from mljar-supervised) (3.3.4)\n",
      "Requirement already satisfied: joblib==1.0.1 in c:\\users\\chen\\anaconda3\\envs\\ml\\lib\\site-packages (from mljar-supervised) (1.0.1)\n",
      "Requirement already satisfied: plotly in c:\\users\\chen\\anaconda3\\envs\\ml\\lib\\site-packages (from catboost==0.24.4->mljar-supervised) (4.14.3)\n",
      "Requirement already satisfied: six in c:\\users\\chen\\anaconda3\\envs\\ml\\lib\\site-packages (from catboost==0.24.4->mljar-supervised) (1.16.0)\n",
      "Requirement already satisfied: graphviz in c:\\users\\chen\\anaconda3\\envs\\ml\\lib\\site-packages (from catboost==0.24.4->mljar-supervised) (0.16)\n",
      "Requirement already satisfied: statsmodels>=0.9.0 in c:\\users\\chen\\anaconda3\\envs\\ml\\lib\\site-packages (from category-encoders==2.2.2->mljar-supervised) (0.12.2)\n",
      "Requirement already satisfied: patsy>=0.5.1 in c:\\users\\chen\\anaconda3\\envs\\ml\\lib\\site-packages (from category-encoders==2.2.2->mljar-supervised) (0.5.1)\n",
      "Requirement already satisfied: pytest in c:\\users\\chen\\anaconda3\\envs\\ml\\lib\\site-packages (from dtreeviz==1.3->mljar-supervised) (6.2.3)\n",
      "Requirement already satisfied: colour in c:\\users\\chen\\anaconda3\\envs\\ml\\lib\\site-packages (from dtreeviz==1.3->mljar-supervised) (0.1.5)\n",
      "Requirement already satisfied: alembic in c:\\users\\chen\\anaconda3\\envs\\ml\\lib\\site-packages (from optuna==2.7.0->mljar-supervised) (1.4.1)\n",
      "Requirement already satisfied: cmaes>=0.8.2 in c:\\users\\chen\\anaconda3\\envs\\ml\\lib\\site-packages (from optuna==2.7.0->mljar-supervised) (0.8.2)\n",
      "Requirement already satisfied: sqlalchemy>=1.1.0 in c:\\users\\chen\\anaconda3\\envs\\ml\\lib\\site-packages (from optuna==2.7.0->mljar-supervised) (1.4.7)\n",
      "Requirement already satisfied: tqdm in c:\\users\\chen\\anaconda3\\envs\\ml\\lib\\site-packages (from optuna==2.7.0->mljar-supervised) (4.59.0)\n",
      "Requirement already satisfied: colorlog in c:\\users\\chen\\anaconda3\\envs\\ml\\lib\\site-packages (from optuna==2.7.0->mljar-supervised) (5.0.1)\n",
      "Requirement already satisfied: cliff in c:\\users\\chen\\anaconda3\\envs\\ml\\lib\\site-packages (from optuna==2.7.0->mljar-supervised) (3.7.0)\n",
      "Requirement already satisfied: packaging>=20.0 in c:\\users\\chen\\anaconda3\\envs\\ml\\lib\\site-packages (from optuna==2.7.0->mljar-supervised) (20.9)\n",
      "Requirement already satisfied: python-dateutil>=2.7.3 in c:\\users\\chen\\anaconda3\\envs\\ml\\lib\\site-packages (from pandas==1.2.0->mljar-supervised) (2.8.1)\n",
      "Requirement already satisfied: pytz>=2017.3 in c:\\users\\chen\\anaconda3\\envs\\ml\\lib\\site-packages (from pandas==1.2.0->mljar-supervised) (2021.1)\n",
      "Requirement already satisfied: threadpoolctl>=2.0.0 in c:\\users\\chen\\anaconda3\\envs\\ml\\lib\\site-packages (from scikit-learn==0.24.2->mljar-supervised) (2.1.0)\n",
      "Requirement already satisfied: numba in c:\\users\\chen\\anaconda3\\envs\\ml\\lib\\site-packages (from shap==0.36.0->mljar-supervised) (0.53.1)\n",
      "Requirement already satisfied: slicer in c:\\users\\chen\\anaconda3\\envs\\ml\\lib\\site-packages (from shap==0.36.0->mljar-supervised) (0.0.7)\n",
      "Requirement already satisfied: pillow in c:\\users\\chen\\anaconda3\\envs\\ml\\lib\\site-packages (from wordcloud==1.8.1->mljar-supervised) (8.2.0)\n",
      "Requirement already satisfied: pyparsing!=2.0.4,!=2.1.2,!=2.1.6,>=2.0.3 in c:\\users\\chen\\anaconda3\\envs\\ml\\lib\\site-packages (from matplotlib>=3.2.2->mljar-supervised) (2.4.7)\n",
      "Requirement already satisfied: cycler>=0.10 in c:\\users\\chen\\anaconda3\\envs\\ml\\lib\\site-packages (from matplotlib>=3.2.2->mljar-supervised) (0.10.0)\n",
      "Requirement already satisfied: kiwisolver>=1.0.1 in c:\\users\\chen\\anaconda3\\envs\\ml\\lib\\site-packages (from matplotlib>=3.2.2->mljar-supervised) (1.3.1)\n",
      "Requirement already satisfied: greenlet!=0.4.17 in c:\\users\\chen\\anaconda3\\envs\\ml\\lib\\site-packages (from sqlalchemy>=1.1.0->optuna==2.7.0->mljar-supervised) (1.0.0)\n",
      "Requirement already satisfied: importlib-metadata in c:\\users\\chen\\anaconda3\\envs\\ml\\lib\\site-packages (from sqlalchemy>=1.1.0->optuna==2.7.0->mljar-supervised) (1.7.0)\n",
      "Requirement already satisfied: Mako in c:\\users\\chen\\anaconda3\\envs\\ml\\lib\\site-packages (from alembic->optuna==2.7.0->mljar-supervised) (1.1.4)\n",
      "Requirement already satisfied: python-editor>=0.3 in c:\\users\\chen\\anaconda3\\envs\\ml\\lib\\site-packages (from alembic->optuna==2.7.0->mljar-supervised) (1.0.4)\n",
      "Requirement already satisfied: PrettyTable>=0.7.2 in c:\\users\\chen\\anaconda3\\envs\\ml\\lib\\site-packages (from cliff->optuna==2.7.0->mljar-supervised) (2.1.0)\n",
      "Requirement already satisfied: pbr!=2.1.0,>=2.0.0 in c:\\users\\chen\\anaconda3\\envs\\ml\\lib\\site-packages (from cliff->optuna==2.7.0->mljar-supervised) (5.6.0)\n",
      "Requirement already satisfied: stevedore>=2.0.1 in c:\\users\\chen\\anaconda3\\envs\\ml\\lib\\site-packages (from cliff->optuna==2.7.0->mljar-supervised) (3.3.0)\n",
      "Requirement already satisfied: cmd2>=1.0.0 in c:\\users\\chen\\anaconda3\\envs\\ml\\lib\\site-packages (from cliff->optuna==2.7.0->mljar-supervised) (1.5.0)\n",
      "Requirement already satisfied: PyYAML>=3.12 in c:\\users\\chen\\anaconda3\\envs\\ml\\lib\\site-packages (from cliff->optuna==2.7.0->mljar-supervised) (5.4.1)\n",
      "Requirement already satisfied: pyperclip>=1.6 in c:\\users\\chen\\anaconda3\\envs\\ml\\lib\\site-packages (from cmd2>=1.0.0->cliff->optuna==2.7.0->mljar-supervised) (1.8.2)\n",
      "Requirement already satisfied: wcwidth>=0.1.7 in c:\\users\\chen\\anaconda3\\envs\\ml\\lib\\site-packages (from cmd2>=1.0.0->cliff->optuna==2.7.0->mljar-supervised) (0.2.5)\n",
      "Requirement already satisfied: colorama>=0.3.7 in c:\\users\\chen\\anaconda3\\envs\\ml\\lib\\site-packages (from cmd2>=1.0.0->cliff->optuna==2.7.0->mljar-supervised) (0.4.4)\n",
      "Requirement already satisfied: pyreadline in c:\\users\\chen\\anaconda3\\envs\\ml\\lib\\site-packages (from cmd2>=1.0.0->cliff->optuna==2.7.0->mljar-supervised) (2.1)\n",
      "Requirement already satisfied: attrs>=16.3.0 in c:\\users\\chen\\anaconda3\\envs\\ml\\lib\\site-packages (from cmd2>=1.0.0->cliff->optuna==2.7.0->mljar-supervised) (20.3.0)\n",
      "Requirement already satisfied: zipp>=0.5 in c:\\users\\chen\\anaconda3\\envs\\ml\\lib\\site-packages (from importlib-metadata->sqlalchemy>=1.1.0->optuna==2.7.0->mljar-supervised) (3.4.1)\n",
      "Requirement already satisfied: MarkupSafe>=0.9.2 in c:\\users\\chen\\anaconda3\\envs\\ml\\lib\\site-packages (from Mako->alembic->optuna==2.7.0->mljar-supervised) (1.1.1)\n",
      "Requirement already satisfied: llvmlite<0.37,>=0.36.0rc1 in c:\\users\\chen\\anaconda3\\envs\\ml\\lib\\site-packages (from numba->shap==0.36.0->mljar-supervised) (0.36.0)\n",
      "Requirement already satisfied: setuptools in c:\\users\\chen\\anaconda3\\envs\\ml\\lib\\site-packages (from numba->shap==0.36.0->mljar-supervised) (52.0.0.post20210125)\n",
      "Requirement already satisfied: retrying>=1.3.3 in c:\\users\\chen\\anaconda3\\envs\\ml\\lib\\site-packages (from plotly->catboost==0.24.4->mljar-supervised) (1.3.3)\n",
      "Requirement already satisfied: iniconfig in c:\\users\\chen\\anaconda3\\envs\\ml\\lib\\site-packages (from pytest->dtreeviz==1.3->mljar-supervised) (1.1.1)\n",
      "Requirement already satisfied: pluggy<1.0.0a1,>=0.12 in c:\\users\\chen\\anaconda3\\envs\\ml\\lib\\site-packages (from pytest->dtreeviz==1.3->mljar-supervised) (0.13.1)\n",
      "Requirement already satisfied: py>=1.8.2 in c:\\users\\chen\\anaconda3\\envs\\ml\\lib\\site-packages (from pytest->dtreeviz==1.3->mljar-supervised) (1.10.0)\n",
      "Requirement already satisfied: toml in c:\\users\\chen\\anaconda3\\envs\\ml\\lib\\site-packages (from pytest->dtreeviz==1.3->mljar-supervised) (0.10.2)\n",
      "Requirement already satisfied: atomicwrites>=1.0 in c:\\users\\chen\\anaconda3\\envs\\ml\\lib\\site-packages (from pytest->dtreeviz==1.3->mljar-supervised) (1.4.0)\n",
      "Installing collected packages: numpy, scipy, xgboost, tabulate, lightgbm, cloudpickle\n",
      "  Attempting uninstall: numpy\n",
      "    Found existing installation: numpy 1.19.5\n",
      "    Uninstalling numpy-1.19.5:\n",
      "      Successfully uninstalled numpy-1.19.5\n"
     ]
    },
    {
     "name": "stderr",
     "output_type": "stream",
     "text": [
      "ERROR: Could not install packages due to an OSError: [WinError 5] 存取被拒。: 'C:\\\\Users\\\\Chen\\\\AppData\\\\Local\\\\Temp\\\\pip-uninstall-ftzi5woy\\\\libopenblas.wcdjnk7yvmpzq2me2zzhjjrj3jikndb7.gfortran-win_amd64.dll'\n",
      "Consider using the `--user` option or check the permissions.\n",
      "\n"
     ]
    }
   ],
   "source": [
    "# install packages\n",
    "!pip install catboost\n",
    "!pip install xgboost\n",
    "!pip install lightgbm\n",
    "!pip install mljar-supervised"
   ]
  },
  {
   "cell_type": "code",
   "execution_count": 2,
   "id": "1ba3ec97",
   "metadata": {},
   "outputs": [],
   "source": [
    "# import packages\n",
    "import os\n",
    "import numpy as np\n",
    "import pandas as pd\n",
    "\n",
    "# mljar\n",
    "from supervised.automl import AutoML\n",
    "\n",
    "import catboost\n",
    "import lightgbm\n",
    "import xgboost\n",
    "\n",
    "import sklearn\n",
    "from sklearn.preprocessing import StandardScaler\n",
    "from sklearn.cluster import KMeans\n",
    "\n",
    "from joblib import load, dump"
   ]
  },
  {
   "cell_type": "code",
   "execution_count": 3,
   "id": "98da66ea",
   "metadata": {},
   "outputs": [],
   "source": [
    "# # connect with Google Cloud\n",
    "# from google.colab import drive\n",
    "# drive.mount('/content/drive')\n",
    "# path = \"/content/drive/My Drive/colab/TPS May\"\n",
    "path = r'C:\\Users\\Chen\\Desktop\\Kaggle\\Regression\\Tabular Playground Series - Jan 2021'\n",
    "os.chdir(path)"
   ]
  },
  {
   "cell_type": "code",
   "execution_count": 4,
   "id": "eac58004",
   "metadata": {},
   "outputs": [],
   "source": [
    "# load data\n",
    "df_train = pd.read_csv('train.csv')\n",
    "df_test = pd.read_csv('test.csv')"
   ]
  },
  {
   "cell_type": "code",
   "execution_count": 5,
   "id": "a054d373",
   "metadata": {},
   "outputs": [],
   "source": [
    "all_data = pd.concat([df_train, df_test]).reset_index(drop=True)"
   ]
  },
  {
   "cell_type": "code",
   "execution_count": 6,
   "id": "915e2e86",
   "metadata": {},
   "outputs": [
    {
     "name": "stderr",
     "output_type": "stream",
     "text": [
      "'n_jobs' was deprecated in version 0.23 and will be removed in 1.0 (renaming of 0.25).\n"
     ]
    }
   ],
   "source": [
    "# target labelling\n",
    "y = pd.DataFrame(df_train['target']).astype('float64')\n",
    "\n",
    "col = [i for i in df_train.columns if i not in ['id', 'target']]\n",
    "scaler = StandardScaler()\n",
    "num_df = pd.DataFrame(scaler.fit_transform(all_data[col]), columns=col)\n",
    "\n",
    "# create new feature by Kmean cluster\n",
    "clus = KMeans(n_clusters=4, random_state=42, max_iter=1000, n_jobs=-1)\n",
    "clus.fit(num_df)\n",
    "num_df['kmeans'] = clus.labels_\n",
    "\n",
    "df_train = num_df[:len(df_train)]\n",
    "df_test = num_df[len(df_train):]\n",
    "\n",
    "x = df_train\n",
    "x = x.astype('float64')"
   ]
  },
  {
   "cell_type": "code",
   "execution_count": 7,
   "id": "eb77e460",
   "metadata": {},
   "outputs": [],
   "source": [
    "# construct model\n",
    "# AutoML : mljar\n",
    "RESULTS_PATH = 'mljar-20210526'\n",
    "SEED = 20210526\n",
    "\n",
    "cv = {\"validation_type\": \"kfold\",\n",
    "      \"k_folds\": 5,\n",
    "      \"shuffle\": True,\n",
    "      \"stratify\": False,\n",
    "      \"random_seed\": SEED}\n",
    "\n",
    "automl = AutoML(results_path=RESULTS_PATH,\n",
    "                mode=\"Optuna\",                          # or 'Explain', 'Perform', 'Compete'\n",
    "                ml_task='regression',   # or 'auto', 'binary_classification', 'regression'\n",
    "                algorithms=['Baseline', 'Linear', 'Decision Tree', 'Random Forest', 'Extra Trees', 'LightGBM', 'Xgboost', 'CatBoost', 'Neural Network', 'Nearest Neighbors'],\n",
    "                train_ensemble=True,\n",
    "                stack_models=True,\n",
    "                eval_metric='rmse',\n",
    "                validation_strategy=cv,\n",
    "                golden_features=True,\n",
    "                boost_on_errors=True,\n",
    "                optuna_time_budget=60*60,\n",
    "                total_time_limit=8*60*60,\n",
    "                optuna_verbose=False,\n",
    "                n_jobs=-1,\n",
    "                random_state=SEED)"
   ]
  },
  {
   "cell_type": "code",
   "execution_count": 8,
   "id": "b27311b0",
   "metadata": {},
   "outputs": [
    {
     "name": "stdout",
     "output_type": "stream",
     "text": [
      "Linear algorithm was disabled.\n",
      "AutoML directory: mljar-20210526\n",
      "Expected computing time:\n",
      "Total training time: Optuna + ML training = 61200 seconds\n",
      "Total Optuna time: len(algorithms) * optuna_time_budget = 32400 seconds\n",
      "Total ML model training time: 28800 seconds\n",
      "The task is regression with evaluation metric rmse\n",
      "AutoML will use algorithms: ['Baseline', 'Decision Tree', 'Random Forest', 'Extra Trees', 'LightGBM', 'Xgboost', 'CatBoost', 'Neural Network', 'Nearest Neighbors']\n",
      "AutoML will stack models\n",
      "AutoML will ensemble availabe models\n",
      "AutoML steps: ['simple_algorithms', 'default_algorithms', 'golden_features', 'boost_on_errors', 'ensemble', 'stack', 'ensemble_stacked']\n",
      "* Step simple_algorithms will try to check up to 2 models\n",
      "1_Baseline rmse 0.733071 trained in 1.77 seconds\n",
      "2_DecisionTree rmse 0.726533 trained in 8.47 seconds\n",
      "* Step default_algorithms will try to check up to 6 models\n",
      "3_Optuna_LightGBM rmse 0.696432 trained in 336.58 seconds\n",
      "4_Optuna_Xgboost rmse 0.696238 trained in 255.61 seconds\n",
      "5_Optuna_CatBoost rmse 0.698398 trained in 150.28 seconds\n",
      "6_Optuna_NeuralNetwork not trained. Stop training after the first fold. Time needed to train on the first fold 73.0 seconds. The time estimate for training on all folds is larger than total_time_limit.\n",
      "Skip golden_features because of the time limit.\n",
      "Skip boost_on_errors because of the time limit.\n",
      "* Step ensemble will try to check up to 1 model\n",
      "Ensemble rmse 0.695747 trained in 0.39 seconds\n",
      "Skip stack because no parameters were generated.\n",
      "Skip ensemble_stacked because no parameters were generated.\n",
      "AutoML fit time: 51788.03 seconds\n",
      "AutoML best model: Ensemble\n"
     ]
    },
    {
     "data": {
      "text/plain": [
       "AutoML(algorithms=['Baseline', 'Linear', 'Decision Tree', 'Random Forest',\n",
       "                   'Extra Trees', 'LightGBM', 'Xgboost', 'CatBoost',\n",
       "                   'Neural Network', 'Nearest Neighbors'],\n",
       "       boost_on_errors=True, eval_metric='rmse', golden_features=True,\n",
       "       ml_task='regression', mode='Optuna', optuna_time_budget=3600,\n",
       "       optuna_verbose=False, random_state=20210526,\n",
       "       results_path='mljar-20210526', stack_models=True, total_time_limit=28800,\n",
       "       validation_strategy={'k_folds': 5, 'random_seed': 20210526,\n",
       "                            'shuffle': True, 'stratify': False,\n",
       "                            'validation_type': 'kfold'})"
      ]
     },
     "execution_count": 8,
     "metadata": {},
     "output_type": "execute_result"
    }
   ],
   "source": [
    "# training model\n",
    "automl.fit(x, y)"
   ]
  },
  {
   "cell_type": "code",
   "execution_count": 9,
   "id": "f3b872cc",
   "metadata": {},
   "outputs": [],
   "source": [
    "# load well-trained model\n",
    "automl = AutoML(results_path=RESULTS_PATH)"
   ]
  },
  {
   "cell_type": "code",
   "execution_count": 10,
   "id": "2c8f0102",
   "metadata": {},
   "outputs": [],
   "source": [
    "# predict probability\n",
    "x_test = df_test\n",
    "x_test = x_test.astype('float64')\n",
    "result = automl.predict(x_test)"
   ]
  },
  {
   "cell_type": "code",
   "execution_count": 11,
   "id": "3bcb3b41",
   "metadata": {},
   "outputs": [],
   "source": [
    "# submission\n",
    "sub = pd.read_csv('sample_submission.csv')\n",
    "sub[sub.columns[1:]] = result\n",
    "sub.to_csv(f'{RESULTS_PATH}.csv', index=False)"
   ]
  },
  {
   "cell_type": "code",
   "execution_count": null,
   "id": "edf15a65",
   "metadata": {},
   "outputs": [],
   "source": []
  }
 ],
 "metadata": {
  "kernelspec": {
   "display_name": "Python 3",
   "language": "python",
   "name": "python3"
  },
  "language_info": {
   "codemirror_mode": {
    "name": "ipython",
    "version": 3
   },
   "file_extension": ".py",
   "mimetype": "text/x-python",
   "name": "python",
   "nbconvert_exporter": "python",
   "pygments_lexer": "ipython3",
   "version": "3.7.9"
  }
 },
 "nbformat": 4,
 "nbformat_minor": 5
}
